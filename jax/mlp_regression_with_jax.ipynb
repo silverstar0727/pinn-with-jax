{
  "nbformat": 4,
  "nbformat_minor": 0,
  "metadata": {
    "colab": {
      "name": "mlp_regression_with_jax.ipynb",
      "provenance": [],
      "collapsed_sections": []
    },
    "kernelspec": {
      "name": "python3",
      "display_name": "Python 3"
    },
    "language_info": {
      "name": "python"
    }
  },
  "cells": [
    {
      "cell_type": "code",
      "source": [
        "import time\n",
        "\n",
        "import numpy as np\n",
        "import jax.numpy as jnp\n",
        "from jax import grad, jit, vmap, value_and_grad, random, jacrev\n",
        "from jax.example_libraries import optimizers\n",
        "\n",
        "import matplotlib.pyplot as plt\n",
        "\n",
        "key = random.PRNGKey(seed=100)"
      ],
      "metadata": {
        "id": "QbvzoF-NuVzX"
      },
      "execution_count": 10,
      "outputs": []
    },
    {
      "cell_type": "code",
      "source": [
        "def target_func(x):\n",
        "    return x ** 2 + 10"
      ],
      "metadata": {
        "id": "zjI3NpRIzSgM"
      },
      "execution_count": 11,
      "outputs": []
    },
    {
      "cell_type": "code",
      "source": [
        "def initialize_mlp(sizes, key):\n",
        "    \"\"\" Initialize the weights of all layers of a linear layer network \"\"\"\n",
        "    keys = random.split(key, len(sizes))\n",
        "    # Initialize a single layer with Gaussian weights -  helper function\n",
        "    def initialize_layer(m, n, key, scale=1e-2):\n",
        "        w_key, b_key = random.split(key)\n",
        "        return scale * random.normal(w_key, (n, m)), scale * random.normal(b_key, (n,))\n",
        "    return [initialize_layer(m, n, k) for m, n, k in zip(sizes[:-1], sizes[1:], keys)]\n",
        "\n",
        "layer_sizes = [1, 32, 32, 1]\n",
        "# Return a list of tuples of layer weights\n",
        "params = initialize_mlp(layer_sizes, key)"
      ],
      "metadata": {
        "id": "-YtErjiCuVuK"
      },
      "execution_count": 12,
      "outputs": []
    },
    {
      "cell_type": "code",
      "execution_count": 13,
      "metadata": {
        "id": "ikH9BO6PuUcH"
      },
      "outputs": [],
      "source": [
        "def forward_pass(params, in_array):\n",
        "    \"\"\" Compute the forward pass for each example individually \"\"\"\n",
        "    activations = in_array\n",
        "\n",
        "    # Loop over the ReLU hidden layers\n",
        "    for w, b in params[:-1]:\n",
        "        activations = jnp.maximum(jnp.dot(w, activations) + b, 0)\n",
        "\n",
        "    # Perform final trafo to logits\n",
        "    final_w, final_b = params[-1]\n",
        "    output = jnp.dot(final_w, activations) + final_b\n",
        "    return output\n",
        "\n",
        "# Make a batched version of the `predict` function\n",
        "batch_forward = vmap(forward_pass, in_axes=(None, 0), out_axes=0)"
      ]
    },
    {
      "cell_type": "code",
      "source": [
        "def loss(params, train_x, train_y):\n",
        "    pred_y = batch_forward(params, train_x)\n",
        "\n",
        "    return jnp.mean(jnp.square(pred_y - train_y))"
      ],
      "metadata": {
        "id": "KWxQ-wvCy5kY"
      },
      "execution_count": 14,
      "outputs": []
    },
    {
      "cell_type": "code",
      "source": [
        "# Defining an optimizer in Jax\n",
        "step_size = 1e-3\n",
        "opt_init, opt_update, get_params = optimizers.adam(step_size)\n",
        "opt_state = opt_init(params)\n",
        "\n",
        "@jit\n",
        "def update(params, train_x, train_y, opt_state):\n",
        "    \"\"\" Compute the gradient for a batch and update the parameters \"\"\"\n",
        "    value, grads = value_and_grad(loss)(params, train_x, train_y)\n",
        "    opt_state = opt_update(0, grads, opt_state)\n",
        "    return get_params(opt_state), opt_state, value"
      ],
      "metadata": {
        "id": "ZQDvUbRDxl0J"
      },
      "execution_count": 15,
      "outputs": []
    },
    {
      "cell_type": "code",
      "source": [
        "train_loss = []\n",
        "\n",
        "for epoch in range(10000):\n",
        "    train_x = ((np.random.rand(1000)*20) - 10).reshape(-1, 1)\n",
        "    train_y = target_func(train_x)\n",
        "\n",
        "    params, opt_state, loss = update(params, train_x, train_y, opt_state)\n",
        "    if epoch % 1000 == 0:\n",
        "        print(loss)\n",
        "\n",
        "    train_loss.append(loss)\n"
      ],
      "metadata": {
        "colab": {
          "base_uri": "https://localhost:8080/"
        },
        "id": "w5xryB6nzHSv",
        "outputId": "92c1d7ab-1b07-4b00-e8f9-de92328d2a28"
      },
      "execution_count": 16,
      "outputs": [
        {
          "output_type": "stream",
          "name": "stdout",
          "text": [
            "2723.931\n",
            "73.642845\n",
            "52.362564\n",
            "47.950245\n",
            "38.99762\n",
            "30.135115\n",
            "17.176607\n",
            "3.4315064\n",
            "0.34353003\n",
            "0.0834343\n"
          ]
        }
      ]
    },
    {
      "cell_type": "code",
      "source": [
        "plt.figure(figsize = (5,4))\n",
        "plt.plot(train_loss)\n",
        "plt.show()"
      ],
      "metadata": {
        "colab": {
          "base_uri": "https://localhost:8080/",
          "height": 265
        },
        "id": "t1tVvG5qPbei",
        "outputId": "c312c332-e355-4caa-9729-c6735f18ae91"
      },
      "execution_count": 19,
      "outputs": [
        {
          "output_type": "display_data",
          "data": {
            "text/plain": [
              "<Figure size 360x288 with 1 Axes>"
            ],
            "image/png": "[encoded data removed]"
          },
          "metadata": {
            "needs_background": "light"
          }
        }
      ]
    },
    {
      "cell_type": "code",
      "source": [
        "test_x = jnp.linspace(start=-10, stop=10, num=100).reshape(-1, 1)\n",
        "test_y = target_func(test_x)\n",
        "pred_y = batch_forward(params, test_x)\n",
        "\n",
        "plt.figure(figsize = (5,4))\n",
        "plt.scatter(test_x, test_y)\n",
        "plt.scatter(test_x, pred_y)\n",
        "plt.show()"
      ],
      "metadata": {
        "colab": {
          "base_uri": "https://localhost:8080/",
          "height": 265
        },
        "id": "2G4LLRTEzb70",
        "outputId": "e42ffac1-79f6-4556-adc8-82bc7df35608"
      },
      "execution_count": 20,
      "outputs": [
        {
          "output_type": "display_data",
          "data": {
            "text/plain": [
              "<Figure size 360x288 with 1 Axes>"
            ],
            "image/png": "[encoded data removed]"
          },
          "metadata": {
            "needs_background": "light"
          }
        }
      ]
    },
    {
      "cell_type": "code",
      "source": [
        ""
      ],
      "metadata": {
        "id": "Eh7zFP7P09mU"
      },
      "execution_count": 18,
      "outputs": []
    },
    {
      "cell_type": "code",
      "source": [
        ""
      ],
      "metadata": {
        "id": "ypyEhg5uZnw5"
      },
      "execution_count": null,
      "outputs": []
    },
    {
      "cell_type": "code",
      "source": [
        ""
      ],
      "metadata": {
        "id": "J8Rg4O5gZnuh"
      },
      "execution_count": null,
      "outputs": []
    },
    {
      "cell_type": "code",
      "source": [
        ""
      ],
      "metadata": {
        "id": "4FccZK3GZnsM"
      },
      "execution_count": null,
      "outputs": []
    }
  ]
}