{
  "cells": [
    {
      "cell_type": "markdown",
      "metadata": {
        "id": "2foYAitpGXDd"
      },
      "source": [
        "In this notebook, how to solve simple ODE using Physics Informed Neural Net with JAX(DL Framework).\n",
        "\n",
        "Reference\n",
        "- [Getting started with JAX (MLPs, CNNs & RNNs)](https://roberttlange.github.io/posts/2020/03/blog-post-10/)\n",
        "- [Tutorials in postech \"iai\" lab website](https://iai.postech.ac.kr/tutorials)\n",
        "- [Asem - Physics-informed-neural-network-in-JAX](https://github.com/ASEM000/Physics-informed-neural-network-in-JAX)"
      ]
    },
    {
      "cell_type": "markdown",
      "metadata": {
        "id": "0zGpF5rADDTl"
      },
      "source": [
        "# Example 1.\n",
        "\n",
        "### Given Conditions\n",
        "- ODE: ${du \\over dt} = cos 2\\pi t$\n",
        "- Initial Condition: $u(0) = 1$\n",
        "\n",
        "### Exact Solution\n",
        "- $u(t) = {1 \\over 2 \\pi} sin2 \\pi t + 1$\n",
        "\n",
        "### DL Approach\n",
        "- Input: t (collocation points, not real data)\n",
        "- NN: MLP (20 perceptrons for 4 layers)\n",
        "- Output: $\\hat u$\n",
        "- Loss:\n",
        "    - Governing Equation: $L_{ODE} = MSE({du \\over dt} - cos 2\\pi t, 0)$\n",
        "    - Initial Condition: $L_{IC} = MSE(\\hat u _{t = 0} , 1)$\n",
        "    - Total Loss = $L_{total} = L_{ODE} + L_{IC}$\n"
      ]
    },
    {
      "cell_type": "code",
      "source": [
        "import time\n",
        "\n",
        "import numpy as np\n",
        "import jax.numpy as jnp\n",
        "from jax import grad, jit, vmap, value_and_grad, random, nn\n",
        "from jax.example_libraries import optimizers\n",
        "\n",
        "import matplotlib.pyplot as plt\n",
        "\n",
        "key = random.PRNGKey(seed=0)"
      ],
      "metadata": {
        "id": "DfMiZguSf9dj"
      },
      "execution_count": 62,
      "outputs": []
    },
    {
      "cell_type": "code",
      "source": [
        "def target_func(t):\n",
        "    return (jnp.sin(jnp.pi * 2 * t) / (2 * jnp.pi)) + 1"
      ],
      "metadata": {
        "id": "NwiJSFV_bnza"
      },
      "execution_count": null,
      "outputs": []
    },
    {
      "cell_type": "code",
      "source": [
        "conditions_data_num = 1\n",
        "collocation_points_data_num = 100\n",
        "\n",
        "key = random.PRNGKey(seed=0)\n",
        "collocation_points = random.uniform(\n",
        "    key=key, \n",
        "    minval=0, maxval=2, \n",
        "    shape=(collocation_points_data_num, 1)\n",
        ")\n",
        "\n",
        "\n",
        "t_0 = jnp.zeros([conditions_data_num, 1])\n",
        "# initial condition\n",
        "# u(0) = 1 = DeviceArray([[1.]], dtype=float32)\n",
        "ic_0 = jnp.ones([conditions_data_num, 1])"
      ],
      "metadata": {
        "id": "1ThvmbN84JYG"
      },
      "execution_count": 63,
      "outputs": []
    },
    {
      "cell_type": "code",
      "source": [
        "def initialize_mlp(sizes, key):\n",
        "    \"\"\" Initialize the weights of all layers of a linear layer network \"\"\"\n",
        "    keys = random.split(key, len(sizes))\n",
        "    # Initialize a single layer with Gaussian weights -  helper function\n",
        "    def initialize_layer(m, n, key, scale=1e-2):\n",
        "        w_key, b_key = random.split(key)\n",
        "        lb, ub = -(1 / jnp.sqrt(n)), (1 / jnp.sqrt(m))\n",
        "        return lb + (ub-lb) *  random.uniform(w_key, (m, n)), random.uniform(b_key, (n,))\n",
        "\n",
        "    return [initialize_layer(m, n, k) for m, n, k in zip(sizes[:-1], sizes[1:], keys)]\n",
        "\n",
        "layer_sizes = [1] + [20]*4 + [1]\n",
        "# Return a list of tuples of layer weights\n",
        "params = initialize_mlp(layer_sizes, key)"
      ],
      "metadata": {
        "id": "5lWImyPF81PD"
      },
      "execution_count": 64,
      "outputs": []
    },
    {
      "cell_type": "code",
      "source": [
        "def fwd(params, in_array):\n",
        "    \"\"\" Compute the forward pass for each example individually \"\"\"\n",
        "    activations = in_array\n",
        "\n",
        "    for w, b in params[:-1]:\n",
        "        activations = nn.tanh(jnp.dot(activations, w) + b)\n",
        "\n",
        "    # Perform final trafo to logits\n",
        "    final_w, final_b = params[-1]\n",
        "    output = jnp.dot(activations, final_w) + final_b\n",
        "    return output\n",
        "\n",
        "# Make a batched version of the `predict` function\n",
        "fwd = vmap(fwd, in_axes=(None, 0), out_axes=0)"
      ],
      "metadata": {
        "id": "ZevGaloc8_CY"
      },
      "execution_count": 65,
      "outputs": []
    },
    {
      "cell_type": "code",
      "source": [
        "def ode_loss(t, u_t):\n",
        "    return jnp.cos(2*jnp.pi*t) - u_t(t)\n",
        "\n",
        "\n",
        "def loss_fun(params, colloc):\n",
        "    t_c =colloc[:,[0]]\n",
        "\n",
        "    loss = 0\n",
        "    ufunc = lambda t : fwd(params,t)\n",
        "    ufunc_t = lambda t:grad(lambda t:jnp.sum(ufunc(t)))(t)\n",
        "    \n",
        "    loss += jnp.mean(jnp.square(ode_loss(t_c, ufunc_t)))\n",
        "    loss += jnp.mean(jnp.square(ic_0 - ufunc(t_0))) # ic_0\n",
        "\n",
        "    return loss"
      ],
      "metadata": {
        "id": "rKhD4NMV7FWf"
      },
      "execution_count": 66,
      "outputs": []
    },
    {
      "cell_type": "code",
      "source": [
        "# Defining an optimizer in Jax\n",
        "step_size = 1e-3\n",
        "opt_init, opt_update, get_params = optimizers.adam(step_size)\n",
        "opt_state = opt_init(params)\n",
        "\n",
        "@jit\n",
        "def update(params, train_x, opt_state):\n",
        "    \"\"\" Compute the gradient for a batch and update the parameters \"\"\"\n",
        "    value, grads = value_and_grad(loss_fun)(params, train_x)\n",
        "    opt_state = opt_update(0, grads, opt_state)\n",
        "    return get_params(opt_state), opt_state"
      ],
      "metadata": {
        "id": "YLF9U9RkXpPI"
      },
      "execution_count": 67,
      "outputs": []
    },
    {
      "cell_type": "code",
      "source": [
        "epochs = 6_000\n",
        "\n",
        "train_loss = []\n",
        "for _ in range(epochs):\n",
        "    params, opt_state = update(params, collocation_points, opt_state)\n",
        "\n",
        "    # print loss and epoch info\n",
        "    if _ %(1000) ==0:\n",
        "        loss = loss_fun(params, collocation_points)\n",
        "        train_loss.append(loss)\n",
        "        print(f'Epoch={_}\\tloss={loss:.3e}')"
      ],
      "metadata": {
        "colab": {
          "base_uri": "https://localhost:8080/"
        },
        "id": "oNGULV8o7Ghv",
        "outputId": "e5e2d226-68f5-415c-d923-919aafa04975"
      },
      "execution_count": 68,
      "outputs": [
        {
          "output_type": "stream",
          "name": "stdout",
          "text": [
            "Epoch=0\tloss=1.685e+01\n",
            "Epoch=1000\tloss=3.531e-01\n",
            "Epoch=2000\tloss=1.482e-01\n",
            "Epoch=3000\tloss=2.006e-04\n",
            "Epoch=4000\tloss=1.818e-04\n",
            "Epoch=5000\tloss=1.644e-04\n"
          ]
        }
      ]
    },
    {
      "cell_type": "code",
      "source": [
        "plt.figure(figsize = (5,4))\n",
        "plt.plot(train_loss)\n",
        "plt.show()"
      ],
      "metadata": {
        "colab": {
          "base_uri": "https://localhost:8080/",
          "height": 267
        },
        "id": "fr0rY9X4bZzm",
        "outputId": "89505500-8971-447d-fcd6-bbb783b94cc8"
      },
      "execution_count": 69,
      "outputs": [
        {
          "output_type": "display_data",
          "data": {
            "text/plain": [
              "<Figure size 360x288 with 1 Axes>"
            ],
            "image/png": "[encoded data removed]"
          },
          "metadata": {
            "needs_background": "light"
          }
        }
      ]
    },
    {
      "cell_type": "code",
      "source": [
        "test_x = jnp.linspace(start=0, stop=2, num=30).reshape(-1, 1)\n",
        "test_y = target_func(test_x)\n",
        "pred_y = fwd(params, test_x)\n",
        "\n",
        "plt.figure(figsize = (5,4))\n",
        "plt.scatter(test_x, test_y)\n",
        "plt.scatter(test_x, pred_y)\n",
        "plt.show()"
      ],
      "metadata": {
        "colab": {
          "base_uri": "https://localhost:8080/",
          "height": 265
        },
        "id": "jK_ndMsnQzDf",
        "outputId": "3559f8d7-6066-4181-da37-3fae7cfa9eaa"
      },
      "execution_count": 70,
      "outputs": [
        {
          "output_type": "display_data",
          "data": {
            "text/plain": [
              "<Figure size 360x288 with 1 Axes>"
            ],
            "image/png": "[encoded data removed]"
          },
          "metadata": {
            "needs_background": "light"
          }
        }
      ]
    },
    {
      "cell_type": "code",
      "source": [
        ""
      ],
      "metadata": {
        "id": "LI-PivLZZzuu"
      },
      "execution_count": null,
      "outputs": []
    },
    {
      "cell_type": "markdown",
      "source": [
        "# Example 2.\n",
        "\n",
        "### Given Conditions\n",
        "- ODE: $-t cos(2 \\pi t) + {d \\over dt} y(t) + {d^2 \\over dt^2}y(t) = 0$\n",
        "- Initial Condition: $y(0) = 1$\n",
        "- Boundary Condition: ${t \\over dt} y(t) \\mid _ {t=0} = 10$\n",
        "\n",
        "\n",
        "### DL Approach\n",
        "- Input: t (collocation points, not real data)\n",
        "- NN: MLP (20 perceptrons for 4 layers)\n",
        "- Output: $\\hat y$\n",
        "- Loss:\n",
        "    - Governing Equation: $L_{ODE} = MSE(-t cos(2 \\pi t) + {d \\over dt} y(t) + {d^2 \\over dt^2}y(t), 0)$\n",
        "    - Initial Condition: $L_{IC} = MSE(\\hat y _{t = 0} , 1)$\n",
        "    - Boundary Condition: $L_{BC} = MSE({t \\over dt} y(t) \\mid _ {t=0}, 10)$\n",
        "    - Total Loss = $L_{total} = L_{ODE} + L_{IC} + L{BC}$"
      ],
      "metadata": {
        "id": "WfCJUOmrb9Cq"
      }
    },
    {
      "cell_type": "code",
      "source": [
        "import time\n",
        "\n",
        "import numpy as np\n",
        "import jax.numpy as jnp\n",
        "from jax import grad, jit, vmap, value_and_grad, random, nn\n",
        "from jax.example_libraries import optimizers\n",
        "\n",
        "import matplotlib.pyplot as plt\n",
        "\n",
        "key = random.PRNGKey(seed=0)"
      ],
      "metadata": {
        "id": "w9F4Pv-MZ0Um"
      },
      "execution_count": null,
      "outputs": []
    },
    {
      "cell_type": "code",
      "source": [
        "conditions_data_num = 1\n",
        "collocation_points_data_num = 100\n",
        "\n",
        "key = random.PRNGKey(seed=0)\n",
        "collocation_points = random.uniform(\n",
        "    key=key, \n",
        "    minval=0, maxval=jnp.pi, \n",
        "    shape=(collocation_points_data_num, 1)\n",
        ")\n",
        "\n",
        "\n",
        "t_0 = jnp.zeros([conditions_data_num, 1])\n",
        "# initial condition\n",
        "# u(0) = 1 = DeviceArray([[1.]], dtype=float32)\n",
        "ic_0 = jnp.ones([conditions_data_num, 1])\n",
        "# boundary condition\n",
        "# u_t = 10 = DeviceArray([[10.]], dtype=float32)\n",
        "bc_0 = jnp.ones([conditions_data_num, 1]) * 10"
      ],
      "metadata": {
        "id": "xmDRl6TYZ0Um"
      },
      "execution_count": null,
      "outputs": []
    },
    {
      "cell_type": "code",
      "source": [
        "def initialize_mlp(sizes, key):\n",
        "    \"\"\" Initialize the weights of all layers of a linear layer network \"\"\"\n",
        "    keys = random.split(key, len(sizes))\n",
        "    # Initialize a single layer with Gaussian weights -  helper function\n",
        "    def initialize_layer(m, n, key, scale=1e-2):\n",
        "        w_key, b_key = random.split(key)\n",
        "        lb, ub = -(1 / jnp.sqrt(n)), (1 / jnp.sqrt(m))\n",
        "        return lb + (ub-lb) *  random.uniform(w_key, (m, n)), random.uniform(b_key, (n,))\n",
        "\n",
        "    return [initialize_layer(m, n, k) for m, n, k in zip(sizes[:-1], sizes[1:], keys)]\n",
        "\n",
        "layer_sizes = [1] + [20]*4 + [1]\n",
        "# Return a list of tuples of layer weights\n",
        "params = initialize_mlp(layer_sizes, key)"
      ],
      "metadata": {
        "id": "ZDDaL3u6Z0Un"
      },
      "execution_count": null,
      "outputs": []
    },
    {
      "cell_type": "code",
      "source": [
        "def fwd(params, in_array):\n",
        "    \"\"\" Compute the forward pass for each example individually \"\"\"\n",
        "    activations = in_array\n",
        "\n",
        "    for w, b in params[:-1]:\n",
        "        activations = nn.tanh(jnp.dot(activations, w) + b)\n",
        "\n",
        "    # Perform final trafo to logits\n",
        "    final_w, final_b = params[-1]\n",
        "    output = jnp.dot(activations, final_w) + final_b\n",
        "    return output\n",
        "\n",
        "# Make a batched version of the `predict` function\n",
        "fwd = vmap(fwd, in_axes=(None, 0), out_axes=0)"
      ],
      "metadata": {
        "id": "dyrACuZPZ0Un"
      },
      "execution_count": null,
      "outputs": []
    },
    {
      "cell_type": "code",
      "source": [
        "def ode_loss(t,u):\n",
        "    u_t = lambda t: grad(lambda t: jnp.sum(u(t)))(t)\n",
        "    u_tt = lambda t :grad(lambda t : jnp.sum(u_t(t)))(t)\n",
        "    return -t*jnp.cos(2*jnp.pi*t) + u_t(t) + u_tt(t)\n",
        "\n",
        "\n",
        "def loss_fun(params, colloc):\n",
        "    t_c =colloc[:,[0]]\n",
        "\n",
        "    loss = 0\n",
        "    ufunc = lambda t : fwd(params,t)\n",
        "    ufunc_t = lambda t:grad(lambda t:jnp.sum(ufunc(t)))(t)\n",
        "    \n",
        "    loss += jnp.mean(ode_loss(t_c, ufunc)**2)\n",
        "    loss += jnp.mean(jnp.square(ic_0 - ufunc(t_0))) # ic_0\n",
        "    loss += jnp.mean(jnp.square(bc_0 - ufunc_t(t_0))) # bc_0\n",
        "\n",
        "    return loss"
      ],
      "metadata": {
        "id": "S3a_JnIEZ0Un"
      },
      "execution_count": null,
      "outputs": []
    },
    {
      "cell_type": "code",
      "source": [
        "# Defining an optimizer in Jax\n",
        "step_size = 1e-3\n",
        "opt_init, opt_update, get_params = optimizers.adam(step_size)\n",
        "opt_state = opt_init(params)\n",
        "\n",
        "@jit\n",
        "def update(params, train_x, opt_state):\n",
        "    \"\"\" Compute the gradient for a batch and update the parameters \"\"\"\n",
        "    value, grads = value_and_grad(loss_fun)(params, train_x)\n",
        "    opt_state = opt_update(0, grads, opt_state)\n",
        "    return get_params(opt_state), opt_state"
      ],
      "metadata": {
        "id": "07x8Cwf9Z0Un"
      },
      "execution_count": null,
      "outputs": []
    },
    {
      "cell_type": "code",
      "source": [
        "epochs = 6_000\n",
        "\n",
        "for _ in range(epochs):\n",
        "    params, opt_state = update(params, collocation_points, opt_state)\n",
        "\n",
        "    # print loss and epoch info\n",
        "    if _ %(1000) ==0:\n",
        "        print(f'Epoch={_}\\tloss={loss_fun(params, collocation_points):.3e}')"
      ],
      "metadata": {
        "colab": {
          "base_uri": "https://localhost:8080/"
        },
        "outputId": "4918fe30-153d-46ab-a758-92e054220cc8",
        "id": "XMOT3kN9Z0Un"
      },
      "execution_count": null,
      "outputs": [
        {
          "output_type": "stream",
          "name": "stdout",
          "text": [
            "Epoch=0\tloss=1.182e+02\n",
            "Epoch=1000\tloss=1.879e+00\n",
            "Epoch=2000\tloss=1.824e+00\n",
            "Epoch=3000\tloss=1.389e+00\n",
            "Epoch=4000\tloss=2.978e-01\n",
            "Epoch=5000\tloss=3.693e-03\n"
          ]
        }
      ]
    },
    {
      "cell_type": "code",
      "source": [
        "import sympy as sp\n",
        "\n",
        "t= sp.symbols('t')\n",
        "f = sp.Function('y')\n",
        "diffeq = sp.Eq(f(t).diff(t,t) + f(t).diff(t)-t*sp.cos(2*sp.pi*t),0)\n",
        "sol = sp.simplify(sp.dsolve(diffeq,ics={f(0):1,f(t).diff(t).subs(t,0):10}).rhs)\n",
        "\n",
        "\n",
        "lam_sol= sp.lambdify(t,sol)\n",
        "\n",
        "dT = 1e-3\n",
        "Tf = jnp.pi\n",
        "T = np.arange(0,Tf+dT,dT)\n",
        "\n",
        "\n",
        "sym_sol =np.array([lam_sol(i) for i in T])\n",
        "\n",
        "plt.plot(T,sym_sol,'--r',label='sympy solution')\n",
        "plt.plot(T,fwd(params,T.reshape(-1,1))[:,0],'--k',label='NN solution')\n",
        "plt.legend()"
      ],
      "metadata": {
        "colab": {
          "base_uri": "https://localhost:8080/",
          "height": 283
        },
        "outputId": "62744e5b-7159-43a4-c5f1-1bee1b3c73ed",
        "id": "zd92YimlZ0Un"
      },
      "execution_count": null,
      "outputs": [
        {
          "output_type": "execute_result",
          "data": {
            "text/plain": [
              "<matplotlib.legend.Legend at 0x7f5eb06a2dd0>"
            ]
          },
          "metadata": {},
          "execution_count": 51
        },
        {
          "output_type": "display_data",
          "data": {
            "text/plain": [
              "<Figure size 432x288 with 1 Axes>"
            ],
            "image/png": "[encoded data removed]"
          },
          "metadata": {
            "needs_background": "light"
          }
        }
      ]
    }
  ],
  "metadata": {
    "accelerator": "GPU",
    "colab": {
      "collapsed_sections": [],
      "name": "simple_pinn_with_jax.ipynb",
      "provenance": []
    },
    "gpuClass": "standard",
    "kernelspec": {
      "display_name": "Python 3",
      "name": "python3"
    },
    "language_info": {
      "name": "python"
    }
  },
  "nbformat": 4,
  "nbformat_minor": 0
}